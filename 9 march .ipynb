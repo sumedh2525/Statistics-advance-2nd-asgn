{
 "cells": [
  {
   "cell_type": "raw",
   "id": "fd9ecaf4-2bd1-43e9-b073-2dc6f2838747",
   "metadata": {},
   "source": [
    "Q1: What are the Probability Mass Function (PMF) and Probability Density Function (PDF)? Explain with\n",
    "an example.\n",
    "\n",
    "Ans:\n",
    "Probability Mass Function (PMF):\n",
    "The PMF is used for discrete random variables, which take on a countable number of possible values. It gives the probability of each possible outcome. The PMF maps each value of the random variable to its corresponding probability.\n",
    "For example, consider a fair six-sided die. The random variable X represents the outcome of a single roll. The PMF of X would be:\n",
    "\n",
    "PMF(X = 1) = 1/6\n",
    "PMF(X = 2) = 1/6\n",
    "PMF(X = 3) = 1/6\n",
    "PMF(X = 4) = 1/6\n",
    "PMF(X = 5) = 1/6\n",
    "PMF(X = 6) = 1/6\n",
    "\n",
    "Probability Density Function (PDF):\n",
    "The PDF is used for continuous random variables, which can take on any value within a certain range. The PDF represents the relative likelihood of the random variable taking on a specific value within that range. The total probability is obtained by integrating the PDF over a certain interval.\n",
    "For example, let's consider a continuous random variable X that follows a standard normal distribution (mean = 0, standard deviation = 1). The PDF of X would be denoted as f(x). Since the standard normal distribution is symmetric, the PDF would be bell-shaped.\n",
    "\n",
    "\n",
    "\n"
   ]
  },
  {
   "cell_type": "raw",
   "id": "13e4abd9-619e-40ac-9228-a078c6550266",
   "metadata": {},
   "source": [
    "Q2: What is Cumulative Density Function (CDF)? Explain with an example. Why CDF is used? cvbn.\n",
    "\n",
    "Ans:\n",
    "The Cumulative Density Function (CDF) is a mathematical function that provides the cumulative probability distribution of a random variable. It gives the probability that a random variable takes on a value less than or equal to a given value.\n",
    "\n",
    "The CDF of a random variable X is denoted as F(x), where x represents a specific value. The CDF is defined for both discrete and continuous random variables.\n",
    "\n",
    "\n"
   ]
  },
  {
   "cell_type": "raw",
   "id": "46f14fd7-716e-42b5-8f4e-bdee3eefe4ae",
   "metadata": {},
   "source": [
    "Q3: What are some examples of situations where the normal distribution might be used as a model?\n",
    "Explain how the parameters of the normal distribution relate to the shape of the distribution.\n",
    "\n",
    "Ans:\n",
    "Natural Phenomena: The normal distribution is often used to model naturally occurring phenomena, such as the height of individuals in a population, weights of objects, errors in measurements, or IQ scores. These variables tend to follow a bell-shaped distribution.\n",
    "\n",
    "Financial Analysis: In finance, the normal distribution is commonly employed to model stock returns, asset prices, and portfolio risk. It forms the foundation of many financial models, such as the Black-Scholes model for option pricing.\n",
    "\n",
    "Quality Control: The normal distribution is used in quality control to model the distribution of process measurements or product characteristics. It helps in determining acceptable limits and identifying deviations from the norm.\n",
    "\n",
    "Statistical Inference: Many statistical methods and hypothesis tests are based on assumptions of normality. For instance, in hypothesis testing, assumptions are often made about the distribution of data, and the normal distribution is frequently used due to its tractability and robustness.\n",
    "\n",
    "Population Studies: When analyzing large populations or survey data, variables like income, age, or test scores often follow a roughly normal distribution. Hence, the normal distribution is employed to make inferences and draw conclusions about the population parameters.\n",
    "\n"
   ]
  },
  {
   "cell_type": "raw",
   "id": "c3ac30cc-2e42-42f9-b835-63334d150898",
   "metadata": {},
   "source": [
    "Q4: Explain the importance of Normal Distribution. Give a few real-life examples of Normal\n",
    "Distribution.\n",
    "\n",
    "Ans:\n",
    "The normal distribution, also known as the Gaussian distribution or bell curve, holds great importance in various fields due to its wide range of applications and several desirable properties. Here are some reasons why the normal distribution is important:\n",
    "1.Central Limit Theorem , 2.Statistical Inference, 3.Data Analysis, 4.Quality Control and Process Monitoring, 5.Risk Assessment and Portfolio Management,\n",
    "6.Biomedical Research\n",
    "\n",
    "Real-life examples where the normal distribution is commonly observed include:\n",
    "\n",
    "Heights and weights of individuals in a population.\n",
    "IQ scores in a standardized intelligence test.\n",
    "Errors in measurements and experimental data.\n",
    "Exam scores in a large student population.\n",
    "Response times in human psychology experiments.\n",
    "Lifetimes of certain electronic components.\n",
    "Monthly rainfall patterns.\n",
    "Blood pressure measurements in a healthy population.\n",
    "\n",
    "\n"
   ]
  },
  {
   "cell_type": "raw",
   "id": "1dd95d08-7ce4-4391-a65a-c4427b26667f",
   "metadata": {},
   "source": [
    "Q5: What is Bernaulli Distribution? Give an Example. What is the difference between Bernoulli\n",
    "Distribution and Binomial Distribution?\n",
    "\n",
    "Ans:\n",
    "Bernoulli Distribution:\n",
    "\n",
    "Models a single trial or experiment with two possible outcomes: success (1) or failure (0).\n",
    "It has only one parameter, p, representing the probability of success.\n",
    "The random variable X follows a Bernoulli distribution.\n",
    "The distribution is discrete.\n",
    "Binomial Distribution:\n",
    "\n",
    "Models the number of successes in a fixed number of independent Bernoulli trials.\n",
    "It has two parameters: n, representing the number of trials, and p, representing the probability of success in each trial.\n",
    "The random variable X follows a binomial distribution.\n",
    "The distribution is discrete.\n",
    "\n",
    "\n",
    "\n"
   ]
  },
  {
   "cell_type": "raw",
   "id": "74fc0098-2f70-4f83-ad61-b7d26996d34c",
   "metadata": {},
   "source": [
    "Q6. Consider a dataset with a mean of 50 and a standard deviation of 10. If we assume that the dataset\n",
    "is normally distributed, what is the probability that a randomly selected observation will be greater\n",
    "than 60? Use the appropriate formula and show your calculations.\n",
    "\n",
    "Ans:\n",
    "The formula for calculating the z-score is:\n",
    "z = (x - μ) / σ\n",
    "\n",
    "where:\n",
    "x = the value we want to calculate the probability for (60 in this case)\n",
    "μ = the mean of the dataset (50)\n",
    "σ = the standard deviation of the dataset (10)\n",
    "\n",
    "Calculating the z-score for x = 60:\n",
    "z = (60 - 50) / 10\n",
    "z = 10 / 10\n",
    "z = 1"
   ]
  },
  {
   "cell_type": "raw",
   "id": "a9c86f4a-5011-47fc-8dea-fd2d26e8b74a",
   "metadata": {},
   "source": [
    "Q7: Explain uniform Distribution with an example.\n",
    "\n",
    "Ans:\n",
    "The uniform distribution is a continuous probability distribution where all outcomes within a given interval have an equal probability of occurring. It is often referred to as a rectangular distribution due to its constant probability density function (PDF) within the interval.\n",
    "\n",
    "The probability density function (PDF) of the uniform distribution is defined as:\n",
    "\n",
    "f(x) = 1 / (b - a)\n",
    "\n",
    "where 'a' and 'b' are the lower and upper bounds of the interval, respectively. The PDF is zero outside this interval.\n",
    "\n",
    "Example:\n",
    "Let's consider a random variable X that represents the time it takes for a student to complete an exam. Suppose the exam duration is fixed and known to be exactly 2 hours. We assume that the student is equally likely to finish the exam at any given time within that duration.\n",
    "\n",
    "In this case, we have a uniform distribution with a = 0 (lower bound) and b = 2 (upper bound) for the exam completion time.\n",
    "\n",
    "The PDF of the uniform distribution in this example is:\n",
    "f(x) = 1 / (2 - 0) = 1/2, for 0 ≤ x ≤ 2\n",
    "f(x) = 0, otherwise\n",
    "\n",
    "\n"
   ]
  },
  {
   "cell_type": "raw",
   "id": "c0b77ee6-3bb2-44de-b740-e49f9addcce8",
   "metadata": {},
   "source": [
    "Q8: What is the z score? State the importance of the z score.\n",
    "\n",
    "Ans:\n",
    "The z-score, also known as the standard score or standardized value, is a measure of how many standard deviations a particular data point or observation is away from the mean of a distribution. It quantifies the relative position of an individual data point within a distribution and provides a standardized way to compare values from different distributions.\n",
    "Mathematically, the z-score for a data point x, with a given mean (μ) and standard deviation (σ), is calculated using the formula:\n",
    "\n",
    "z = (x - μ) / σ\n",
    "\n",
    "\n"
   ]
  },
  {
   "cell_type": "raw",
   "id": "58db3329-d3a7-4252-aca4-f648ea785b46",
   "metadata": {},
   "source": [
    "Q9: What is Central Limit Theorem? State the significance of the Central Limit Theorem.\n",
    "\n",
    "Ans:\n",
    "The Central Limit Theorem (CLT) is a fundamental concept in probability theory and statistics. It states that the sum or average of a large number of independent and identically distributed (i.i.d.) random variables will tend to follow a normal distribution, regardless of the shape of the original population distribution.\n",
    "\n",
    "\n"
   ]
  },
  {
   "cell_type": "raw",
   "id": "daa6e549-d91b-4b16-b6fa-41534a758c21",
   "metadata": {},
   "source": [
    "Q10: State the assumptions of the Central Limit Theorem.\n",
    "\n",
    "Ans:\n",
    "Independence: The random variables in the sample are assumed to be independent of each other. This means that the value of one variable does not influence the value of another.\n",
    "\n",
    "Identical Distribution: The random variables are assumed to be identically distributed, meaning they come from the same population distribution. The variables may have different values, but they follow the same probability distribution.\n",
    "\n",
    "Finite Variance: The variables have a finite variance, which measures the spread or variability of the data. This assumption ensures that the sample mean or sample proportion is well-defined."
   ]
  },
  {
   "cell_type": "code",
   "execution_count": null,
   "id": "22f9a98b-a8eb-4553-8a19-3ce1ff742c64",
   "metadata": {},
   "outputs": [],
   "source": []
  }
 ],
 "metadata": {
  "kernelspec": {
   "display_name": "Python 3 (ipykernel)",
   "language": "python",
   "name": "python3"
  },
  "language_info": {
   "codemirror_mode": {
    "name": "ipython",
    "version": 3
   },
   "file_extension": ".py",
   "mimetype": "text/x-python",
   "name": "python",
   "nbconvert_exporter": "python",
   "pygments_lexer": "ipython3",
   "version": "3.10.8"
  }
 },
 "nbformat": 4,
 "nbformat_minor": 5
}
